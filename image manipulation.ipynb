{
 "cells": [
  {
   "cell_type": "code",
   "execution_count": 61,
   "id": "61ab10d4",
   "metadata": {},
   "outputs": [],
   "source": [
    "import cv2\n",
    "import sys\n",
    "import numpy as np\n",
    "from cv2 import imshow as show"
   ]
  },
  {
   "cell_type": "code",
   "execution_count": 6,
   "id": "a5ee24aa",
   "metadata": {},
   "outputs": [],
   "source": [
    "cellStates = ['empty','present','absent']"
   ]
  },
  {
   "cell_type": "code",
   "execution_count": 7,
   "id": "a4d090c9",
   "metadata": {},
   "outputs": [],
   "source": [
    "# to rotate an image \n",
    "def rotate(img, angle):\n",
    "    rows = img.shape[0]\n",
    "    cols = img.shape[1]\n",
    "\n",
    "    img_center = (cols / 2, rows / 2)\n",
    "    M = cv2.getRotationMatrix2D(img_center, angle, 1)\n",
    "\n",
    "    rotated_image = cv2.warpAffine(img, M, (cols, rows),\n",
    "                    borderMode=cv2.BORDER_CONSTANT,\n",
    "                    borderValue=(255,255,255))\n",
    "    return rotated_image"
   ]
  },
  {
   "cell_type": "code",
   "execution_count": 8,
   "id": "12ed6457",
   "metadata": {},
   "outputs": [],
   "source": [
    "# Color conversion\n",
    "def getGreyScaleImage( img ): \n",
    "    img = cv2.cvtColor(img, cv2.COLOR_BGR2GRAY)  \n",
    "#     cv2.imshow(\"grey\", img)\n",
    "#     cv2.waitKey(0)\n",
    "#     cv2.destroyAllWindows()\n",
    "    return img"
   ]
  },
  {
   "cell_type": "code",
   "execution_count": 9,
   "id": "1c8efdb3",
   "metadata": {},
   "outputs": [],
   "source": [
    "# Image Thresholding\n",
    "def getThreshImage( img ):  \n",
    "    ret, thresh = cv2.threshold(img, 120, 255, cv2.THRESH_BINARY + cv2.THRESH_OTSU )\n",
    "#     cv2.imshow(\"thresh\", thresh)\n",
    "#     cv2.waitKey(0)\n",
    "#     cv2.destroyAllWindows()\n",
    "    return thresh"
   ]
  },
  {
   "cell_type": "code",
   "execution_count": 10,
   "id": "14abc95d",
   "metadata": {},
   "outputs": [],
   "source": [
    "# Morphological Transformation\n",
    "def getErosionImage( img ):\n",
    "    kernel = np.ones((5,5),np.uint8)\n",
    "    erosion = cv2.erode(img,kernel,iterations = 1)\n",
    "#     cv2.imshow(\"closing\", erosion)\n",
    "#     cv2.waitKey(0)\n",
    "#     cv2.destroyAllWindows()\n",
    "    return erosion"
   ]
  },
  {
   "cell_type": "code",
   "execution_count": 11,
   "id": "7ae2b86b",
   "metadata": {},
   "outputs": [],
   "source": [
    "# Invert binarize the image\n",
    "def invertImage( img ):\n",
    "    img_blur = cv2.GaussianBlur(img, (3,3), 0)\n",
    "    canny_edges = cv2.Canny(img_blur, 10, 70)\n",
    "    ret, mask = cv2.threshold(canny_edges, 70, 255, cv2.THRESH_BINARY_INV)\n",
    "    return mask"
   ]
  },
  {
   "cell_type": "code",
   "execution_count": 12,
   "id": "5a2cec8d",
   "metadata": {},
   "outputs": [],
   "source": [
    "# checking the functions\n",
    "img = cv2.imread('handA.png')\n",
    "erosion = getErosionImage(img)\n",
    "grey = getGreyScaleImage(img)\n",
    "thresh = getThreshImage(grey)\n",
    "cv2.imshow(\"img\", invertImage(img))\n",
    "cv2.waitKey(0)\n",
    "cv2.destroyAllWindows()"
   ]
  },
  {
   "cell_type": "code",
   "execution_count": 13,
   "id": "37b996d3",
   "metadata": {},
   "outputs": [],
   "source": [
    "#define detecting the edges\n",
    "def edgeDetection( img ):\n",
    "    # Convert to graycsale\n",
    "    img_gray = cv2.cvtColor(img, cv2.COLOR_BGR2GRAY) \n",
    "    # Blur the image for better edge detection\n",
    "    img_blur = cv2.GaussianBlur(img_gray, (3,3), 0)\n",
    "    # Sobel Edge Detection on the X axis\n",
    "    sobelx = cv2.Sobel(src=img_blur, ddepth=cv2.CV_64F, dx=1, dy=0, ksize=1) \n",
    "     # Sobel Edge Detection on the Y axis\n",
    "    sobely = cv2.Sobel(src=img_blur, ddepth=cv2.CV_64F, dx=0, dy=1, ksize=1)\n",
    "    # Combined X and Y Sobel Edge Detection\n",
    "    sobelxy = cv2.Sobel(src=img_blur, ddepth=cv2.CV_64F, dx=1, dy=1, ksize=1) \n",
    "    # Display Sobel Edge Detection Images\n",
    "#     cv2.imshow('Sobel X', sobelx)\n",
    "#     cv2.waitKey(0)\n",
    "#     cv2.imshow('Sobel Y', sobely)\n",
    "#     cv2.waitKey(0)\n",
    "#     cv2.imshow('Sobel X Y using Sobel() function', sobelxy)\n",
    "#     cv2.waitKey(0)\n",
    "    \n",
    "    # Canny Edge Detection\n",
    "    edges = cv2.Canny(image=img_blur, threshold1=20, threshold2=70)\n",
    "    # Display Canny Edge Detection Image\n",
    "#     cv2.imshow('Canny Edge Detection', edges)\n",
    "#     cv2.waitKey(0)\n",
    "#     cv2.destroyAllWindows()\n",
    "    return invertImage(edges)"
   ]
  },
  {
   "cell_type": "code",
   "execution_count": 14,
   "id": "27d82546",
   "metadata": {},
   "outputs": [],
   "source": [
    "#checking the functions\n",
    "img = cv2.imread('handA.png') \n",
    "img = edgeDetection(img)\n",
    "img = invertImage(img)\n",
    "cv2.imshow(\"img\", (img))\n",
    "cv2.waitKey(0)\n",
    "cv2.destroyAllWindows()"
   ]
  },
  {
   "cell_type": "code",
   "execution_count": 15,
   "id": "93779741",
   "metadata": {},
   "outputs": [],
   "source": [
    "# video cam detection\n",
    "# cam = cv2.VideoCapture(0)\n",
    "\n",
    "# while True :\n",
    "#     ret, frame = cam.read()\n",
    "#     cv2.imshow('Live', edgeDetection(frame))\n",
    "#     if( cv2.waitKey(1) == 13 ): #enter key\n",
    "#         break\n",
    "\n",
    "# cam.release()\n",
    "# cv2.destroyAllWindows()"
   ]
  },
  {
   "cell_type": "code",
   "execution_count": 27,
   "id": "5bb960f7",
   "metadata": {},
   "outputs": [],
   "source": [
    "def getContours( gray ):\n",
    "#     gray = getGreyScaleImage(img)\n",
    "    edged = cv2.Canny(gray, 30, 200) \n",
    "    \n",
    "    #black image\n",
    "    blk = np.zeros((img.shape[0], img.shape[1], 3))\n",
    "\n",
    "    # finding contours \n",
    "    # contours alter image, hence use its copy\n",
    "    contours, hierarchy = cv2.findContours(edged, cv2.RETR_LIST, cv2.CHAIN_APPROX_SIMPLE)\n",
    "    \n",
    "    return contours"
   ]
  },
  {
   "cell_type": "code",
   "execution_count": 17,
   "id": "94a56947",
   "metadata": {},
   "outputs": [],
   "source": [
    "# img = cv2.imread('handP.png')\n",
    "# gray = getGreyScaleImage(img)\n",
    "# edged = cv2.Canny(gray, 30, 200)\n",
    "# cv2.imshow('canny', edged)\n",
    "# cv2.waitKey(0)\n",
    "\n",
    "# #black image\n",
    "# blk = np.zeros((img.shape[0], img.shape[1], 3))\n",
    "\n",
    "# # finding contours \n",
    "# # contours alter image, hence use its copy\n",
    "# contours, hierarchy = cv2.findContours(edged, cv2.RETR_LIST, cv2.CHAIN_APPROX_SIMPLE)\n",
    "# cv2.imshow('Canny edges after Contour', edged)\n",
    "# cv2.waitKey(0)\n",
    "# cv2.drawContours(blk, contours, -1, (0,255,0), 3)\n",
    "# cv2.imshow('Contours', blk)\n",
    "# cv2.waitKey(0)\n",
    "# print(str(len(contours)))\n",
    "# cv2.destroyAllWindows() "
   ]
  },
  {
   "cell_type": "code",
   "execution_count": 38,
   "id": "bc4740ed",
   "metadata": {},
   "outputs": [],
   "source": [
    "# Approximating Contours\n",
    "\n",
    "img = cv2.imread('handA.png')\n",
    "gray = getGreyScaleImage(img)\n",
    "\n",
    "# use thresh image if output is good\n",
    "thresh = getThreshImage(getGreyScaleImage(img))\n",
    "\n",
    "contours = getContours(getGreyScaleImage(img))\n",
    "\n",
    "for c in contours:   \n",
    "    x,y,h,w = cv2.boundingRect(c)\n",
    "#     cv2.rectangle(img, (x,y), (x+w, y+h), (0,0,255), 2)\n",
    "#     cv2.imshow('bounding rect', img)\n",
    "    \n",
    "    \n",
    "for c in contours:  \n",
    "    accuracy = 0.01 * cv2.arcLength(c, True) \n",
    "    approx = cv2.approxPolyDP(c, accuracy, True)\n",
    "    cv2.drawContours(img, [approx], 0, (255,0,0), 2)\n",
    "    cv2.imshow('Approx', img)\n",
    "    \n",
    "cv2.waitKey(0)\n",
    "cv2.destroyAllWindows()"
   ]
  },
  {
   "cell_type": "code",
   "execution_count": 60,
   "id": "96a99af6",
   "metadata": {},
   "outputs": [],
   "source": [
    "# Convex Hull\n",
    "\n",
    "img = cv2.imread('handP.png')\n",
    "gray = getGreyScaleImage(img)\n",
    "\n",
    "# use thresh image if output is good\n",
    "thresh = getThreshImage(getGreyScaleImage(img))\n",
    "\n",
    "contours = getContours(getGreyScaleImage(img))\n",
    "\n",
    "# removing the largest sized contour\n",
    "n = len(contours) - 1\n",
    "contours = sorted(contours, key=cv2.contourArea, reverse=False)[:n]\n",
    "\n",
    "for c in contours: \n",
    "    hull = cv2.convexHull(c) \n",
    "    cv2.drawContours(img, [hull], 0, (0,255,0), 3)\n",
    "#     cv2.imshow('Convex Hull', img)\n",
    "\n",
    "# cv2.waitKey(0)\n",
    "# cv2.destroyAllWindows()"
   ]
  },
  {
   "cell_type": "code",
   "execution_count": 113,
   "id": "dcf49324",
   "metadata": {},
   "outputs": [],
   "source": [
    "# detecting Squares\n",
    "\n",
    "image = cv2.imread('handP.png')\n",
    "gray = getGreyScaleImage(image)\n",
    "\n",
    "contours = getContours(getGreyScaleImage(image))\n",
    "\n",
    "for cnt in contours:\n",
    "    \n",
    "    # Get approximate polygons\n",
    "    approx = cv2.approxPolyDP(cnt, 0.01*cv2.arcLength(cnt,True),True)\n",
    "    \n",
    "    if len(approx) == 4 :\n",
    "        x,y,w,h = cv2.boundingRect(cnt)\n",
    "        M = cv2.moments(cnt) \n",
    "        \n",
    "        # Check to see if 4-side polygon is square\n",
    "        # cv2.boundingRect returns the top left and then width and height\n",
    "        if abs(w-h) <= 20: \n",
    "            cv2.drawContours(image, [cnt], 0, (0, 125 ,255), -1)  \n",
    "        \n",
    "cv2.imshow('Shape',image)\n",
    "cv2.waitKey(0) \n",
    "cv2.destroyAllWindows()"
   ]
  },
  {
   "cell_type": "code",
   "execution_count": null,
   "id": "c0507a93",
   "metadata": {},
   "outputs": [],
   "source": []
  },
  {
   "cell_type": "code",
   "execution_count": null,
   "id": "da379d02",
   "metadata": {},
   "outputs": [],
   "source": []
  }
 ],
 "metadata": {
  "kernelspec": {
   "display_name": "Python 3 (ipykernel)",
   "language": "python",
   "name": "python3"
  },
  "language_info": {
   "codemirror_mode": {
    "name": "ipython",
    "version": 3
   },
   "file_extension": ".py",
   "mimetype": "text/x-python",
   "name": "python",
   "nbconvert_exporter": "python",
   "pygments_lexer": "ipython3",
   "version": "3.9.0"
  }
 },
 "nbformat": 4,
 "nbformat_minor": 5
}
