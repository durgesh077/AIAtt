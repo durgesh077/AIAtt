{
  "nbformat": 4,
  "nbformat_minor": 0,
  "metadata": {
    "colab": {
      "name": "Blocks_training.ipynb",
      "provenance": [],
      "collapsed_sections": [],
      "authorship_tag": "ABX9TyPut4q9WnGEVGePbOi2kaxp",
      "include_colab_link": true
    },
    "kernelspec": {
      "name": "python3",
      "display_name": "Python 3"
    },
    "language_info": {
      "name": "python"
    },
    "accelerator": "TPU"
  },
  "cells": [
    {
      "cell_type": "markdown",
      "metadata": {
        "id": "view-in-github",
        "colab_type": "text"
      },
      "source": [
        "<a href=\"https://colab.research.google.com/github/durgesh077/AIAtt/blob/main/Blocks_training.ipynb\" target=\"_parent\"><img src=\"https://colab.research.google.com/assets/colab-badge.svg\" alt=\"Open In Colab\"/></a>"
      ]
    },
    {
      "cell_type": "code",
      "execution_count": 1,
      "metadata": {
        "id": "jPFTbreT4ghW"
      },
      "outputs": [],
      "source": [
        "import cv2\n",
        "import numpy as np\n",
        "try:\n",
        "  cv2.imshow()\n",
        "  show=cv2.imshow\n",
        "except:\n",
        "  from google.colab.patches import cv2_imshow as show"
      ]
    },
    {
      "cell_type": "code",
      "source": [
        "pxls=100\n",
        "blackPxls=0.5"
      ],
      "metadata": {
        "id": "KVBi8XM3wA64"
      },
      "execution_count": 2,
      "outputs": []
    },
    {
      "cell_type": "code",
      "source": [
        "def preprocess(img,th=20):\n",
        "  img=np.array(img,np.int32)\n",
        "  shp=(400,400)\n",
        "  for r in range(shp[0]):\n",
        "    for c in range((img.shape[1])):\n",
        "      if r ==0 and c==0:\n",
        "        img[r][c]=img[r][c]>th\n",
        "      elif r==0 and c:\n",
        "        img[r][c]=img[r][c-1]+(img[r][c]>th)\n",
        "      elif c==0 and r:\n",
        "        img[r][c]=img[r-1][c]+(img[r][c]>th)\n",
        "      else:\n",
        "        img[r][c]=img[r-1][c]+img[r][c-1]-img[r-1][c-1]+(img[r][c]>th)\n",
        "  for r in range(shp[0],img.shape[0]):\n",
        "    for c in range((shp[1])):\n",
        "      if r ==0 and c==0:\n",
        "        img[r][c]=img[r][c]>th\n",
        "      elif r==0 and c:\n",
        "        img[r][c]=img[r][c-1]+(img[r][c]>th)\n",
        "      elif c==0 and r:\n",
        "        img[r][c]=img[r-1][c]+(img[r][c]>th)\n",
        "      else:\n",
        "        img[r][c]=img[r-1][c]+img[r][c-1]-img[r-1][c-1]+(img[r][c]>th)\n",
        "  return img\n",
        "def ratioBlack(img,r,c,h,w):\n",
        "  h-=1\n",
        "  w-=1\n",
        "  sm=0\n",
        "  if r ==0 and c==0:\n",
        "    sm= img[h][w]\n",
        "  elif r==0 and c:\n",
        "    sm= img[h][c+w]- img[h][c-1]\n",
        "  elif c==0 and r:\n",
        "    sm= img[r+h][w]-img[r-1][w]\n",
        "  else:\n",
        "    sm= img[r+h][c+w]-img[r-1][c+w]-img[r+h][c-1]+img[r-1][c-1]\n",
        "  total=((h+1)*(w+1))\n",
        "  return 1-sm/total;"
      ],
      "metadata": {
        "id": "QLIKwnGYhIo2"
      },
      "execution_count": 3,
      "outputs": []
    },
    {
      "cell_type": "code",
      "source": [
        "def convoluteShort(on,kernelShape):\n",
        "  \n",
        "  if on.shape[0]<200 or on.shape[1]<200:\n",
        "    return 1\n",
        "\n",
        "  y_len=kernelShape[0]\n",
        "  x_len=kernelShape[1]\n",
        "  y_from,x_from=0,0\n",
        "  done=False\n",
        "  for y in range(100):\n",
        "    for x in range(100):\n",
        "      res=ratioBlack(on,y,x,y_len,x_len)\n",
        "      if res>blackPxls:\n",
        "        y_from,x_from=(y+y_len,x+x_len)\n",
        "        done=True\n",
        "        break\n",
        "    if done:\n",
        "      break\n",
        "\n",
        "  # try:\n",
        "  while(ratioBlack(on,y_from,x_from,5,5)>blackPxls):\n",
        "    x_from+=2\n",
        "  x_from-=2\n",
        "  while(1-ratioBlack(on,y_from,x_from,2,pxls)>blackPxls):\n",
        "    y_from+=1\n",
        "  return y_from,x_from\n",
        "  # except:\n",
        "  #   return 2\n",
        "\n",
        "\n",
        "def nextHorizontalShort(on,y_prev,x_prev):\n",
        "  y_prev+=30\n",
        "  y_from=y_prev\n",
        "  x_from=x_prev\n",
        "  while(ratioBlack(on,y_from,x_from,5,pxls)>blackPxls):\n",
        "      y_from+=1\n",
        "  while(1-ratioBlack(on,y_from,x_from,5,pxls)>blackPxls):\n",
        "      y_from+=1\n",
        "  return y_from,x_from\n",
        "\n",
        "def nextVerticalShort(on,y_prev,x_prev):\n",
        "  x_prev+=30\n",
        "  y_from=y_prev\n",
        "  x_from=x_prev\n",
        "  while(ratioBlack(on,y_from,x_from,pxls,5)>blackPxls):\n",
        "    x_from+=1\n",
        "  while(1-ratioBlack(on,y_from,x_from,pxls,5)>blackPxls):\n",
        "      x_from+=1\n",
        "  return y_from,x_from"
      ],
      "metadata": {
        "id": "MiKcS9XYqIvt"
      },
      "execution_count": 4,
      "outputs": []
    },
    {
      "cell_type": "code",
      "source": [
        "def rotate(img,angle):\n",
        "  rows = img.shape[0]\n",
        "  cols = img.shape[1]\n",
        "\n",
        "  img_center = (cols / 2, rows / 2)\n",
        "  M = cv2.getRotationMatrix2D(img_center, angle, 1)\n",
        "\n",
        "  rotated_image = cv2.warpAffine(img, M, (cols, rows),\n",
        "                            borderMode=cv2.BORDER_CONSTANT,\n",
        "                            borderValue=(255,255,255))\n",
        "  return rotated_image"
      ],
      "metadata": {
        "id": "tNPe7zwBF55o"
      },
      "execution_count": 5,
      "outputs": []
    },
    {
      "cell_type": "code",
      "source": [
        "import tensorflow as tf\n",
        "from tensorflow import keras"
      ],
      "metadata": {
        "id": "m-bVXxqXaQAA"
      },
      "execution_count": 6,
      "outputs": []
    },
    {
      "cell_type": "code",
      "source": [
        "def getAllCells(hori,ver,on):\n",
        "  starts=[]\n",
        "  for y in range(len(hori)-1):\n",
        "    for x in range(len(ver)-1):\n",
        "      leftTop=hori[y][0],ver[x][1]\n",
        "      rightEnd=hori[y+1][0],ver[x+1][1]\n",
        "      starts.append((leftTop,rightEnd))\n",
        "  return starts"
      ],
      "metadata": {
        "id": "cE8WsKHVnV8o"
      },
      "execution_count": 7,
      "outputs": []
    },
    {
      "cell_type": "code",
      "source": [
        "def giveHoriVer(marked):\n",
        "  for ii in np.arange(0,5):\n",
        "      for i in [ii,-(ii)]:\n",
        "        global done\n",
        "        done=False\n",
        "        if i:\n",
        "          timg=rotate(marked,i)\n",
        "        else: \n",
        "          timg=marked\n",
        "        img=preprocess(timg)\n",
        "        try:\n",
        "          leftEndpoint=convoluteShort(img,(30,30))\n",
        "          horizontal=[leftEndpoint]\n",
        "          vertical=[leftEndpoint]\n",
        "          while(len(horizontal)<10):\n",
        "            horizontal.append(nextHorizontalShort(img,horizontal[-1][0],horizontal[-1][1]))\n",
        "          while(len(vertical)<8):\n",
        "            vertical.append(nextVerticalShort(img,vertical[-1][0],vertical[-1][1]))\n",
        "          done=True\n",
        "          marked=timg\n",
        "          break\n",
        "        except:\n",
        "          if ii==0:\n",
        "            break\n",
        "      if done :\n",
        "        break\n",
        "  # print(done)\n",
        "  if not done:\n",
        "    raise \"not good image\"\n",
        "  else:\n",
        "    return horizontal,vertical,marked"
      ],
      "metadata": {
        "id": "gV0cT6KMIxRq"
      },
      "execution_count": 8,
      "outputs": []
    },
    {
      "cell_type": "code",
      "source": [
        "def extractImg(img,x1,y1,x2,y2):\n",
        "  x1=x1-10\n",
        "  y1=y1-10\n",
        "  x2=x2+10\n",
        "  y2=y2+10\n",
        "  trimmed=img[y1:y2,x1:x2,np.newaxis]\n",
        "  trimmed=tf.image.resize([trimmed],(224,224))\n",
        "  trimmed=tf.image.grayscale_to_rgb(trimmed)\n",
        "  return trimmed[0]"
      ],
      "metadata": {
        "id": "ApCo7dU2uIKL"
      },
      "execution_count": 9,
      "outputs": []
    },
    {
      "cell_type": "code",
      "source": [
        "def getSubImgs(marked):\n",
        "  horizontal,vertical,marked=giveHoriVer(marked)\n",
        "  allBlocks=getAllCells(horizontal,vertical,marked)\n",
        "  cells=marked.copy()\n",
        "  subImgs=[]\n",
        "  for lt,rb in allBlocks:\n",
        "    cv2.rectangle(cells,lt[::-1],rb[::-1],100,2)\n",
        "    subImgs.append(extractImg(marked,lt[1],lt[0],rb[1],rb[0]))\n",
        "  subImgs=tf.convert_to_tensor(subImgs)\n",
        "  return subImgs"
      ],
      "metadata": {
        "id": "YNsWb7RWLkx0"
      },
      "execution_count": 10,
      "outputs": []
    },
    {
      "cell_type": "code",
      "source": [
        "def readImgGray(filename):\n",
        "  imgGrid=cv2.imread(filename,cv2.IMREAD_GRAYSCALE)\n",
        "  return cv2.resize(imgGrid,(600,800),interpolation=cv2.INTER_AREA)"
      ],
      "metadata": {
        "id": "1ACvTcAWSEdF"
      },
      "execution_count": 11,
      "outputs": []
    },
    {
      "cell_type": "code",
      "source": [
        "def preprocessForVGG(marked):\n",
        "  subImgs=getSubImgs(marked)\n",
        "  return vgg.preprocess_input(subImgs)"
      ],
      "metadata": {
        "id": "35E1yJoORBjp"
      },
      "execution_count": 12,
      "outputs": []
    },
    {
      "cell_type": "code",
      "source": [
        "import tensorflow.keras.applications.vgg16  as vgg\n",
        "from tensorflow.keras import Model\n",
        "from tensorflow.keras.layers import Layer,Flatten,Dropout,Dense\n",
        "from tensorflow.keras.callbacks import ReduceLROnPlateau,ModelCheckpoint,EarlyStopping\n",
        "from tensorflow.keras import layers, models, Model, optimizers\n",
        "from sklearn.model_selection import train_test_split as tts"
      ],
      "metadata": {
        "id": "Xqpv-ATJgVkC"
      },
      "execution_count": 13,
      "outputs": []
    },
    {
      "cell_type": "code",
      "source": [
        "%tensorflow_version 2.x\n",
        "print(\"Tensorflow version \" + tf.__version__)\n",
        "\n",
        "try:\n",
        "  tpu = tf.distribute.cluster_resolver.TPUClusterResolver()  # TPU detection\n",
        "  print('Running on TPU ', tpu.cluster_spec().as_dict()['worker'])\n",
        "except ValueError:\n",
        "  raise BaseException('ERROR: Not connected to a TPU runtime; please see the previous cell in this notebook for instructions!')\n",
        "\n",
        "tf.config.experimental_connect_to_cluster(tpu)\n",
        "tf.tpu.experimental.initialize_tpu_system(tpu)\n",
        "tpu_strategy = tf.distribute.experimental.TPUStrategy(tpu)"
      ],
      "metadata": {
        "colab": {
          "base_uri": "https://localhost:8080/"
        },
        "id": "diwk7MT7kWw1",
        "outputId": "5c28a38d-9a0b-41b4-96ca-6fe7ba6dbd60"
      },
      "execution_count": 14,
      "outputs": [
        {
          "output_type": "stream",
          "name": "stdout",
          "text": [
            "Tensorflow version 2.7.0\n",
            "Running on TPU  ['10.96.246.74:8470']\n",
            "INFO:tensorflow:Deallocate tpu buffers before initializing tpu system.\n"
          ]
        },
        {
          "output_type": "stream",
          "name": "stderr",
          "text": [
            "INFO:tensorflow:Deallocate tpu buffers before initializing tpu system.\n"
          ]
        },
        {
          "output_type": "stream",
          "name": "stdout",
          "text": [
            "INFO:tensorflow:Initializing the TPU system: grpc://10.96.246.74:8470\n"
          ]
        },
        {
          "output_type": "stream",
          "name": "stderr",
          "text": [
            "INFO:tensorflow:Initializing the TPU system: grpc://10.96.246.74:8470\n"
          ]
        },
        {
          "output_type": "stream",
          "name": "stdout",
          "text": [
            "INFO:tensorflow:Finished initializing TPU system.\n"
          ]
        },
        {
          "output_type": "stream",
          "name": "stderr",
          "text": [
            "INFO:tensorflow:Finished initializing TPU system.\n",
            "WARNING:absl:`tf.distribute.experimental.TPUStrategy` is deprecated, please use  the non experimental symbol `tf.distribute.TPUStrategy` instead.\n"
          ]
        },
        {
          "output_type": "stream",
          "name": "stdout",
          "text": [
            "INFO:tensorflow:Found TPU system:\n"
          ]
        },
        {
          "output_type": "stream",
          "name": "stderr",
          "text": [
            "INFO:tensorflow:Found TPU system:\n"
          ]
        },
        {
          "output_type": "stream",
          "name": "stdout",
          "text": [
            "INFO:tensorflow:*** Num TPU Cores: 8\n"
          ]
        },
        {
          "output_type": "stream",
          "name": "stderr",
          "text": [
            "INFO:tensorflow:*** Num TPU Cores: 8\n"
          ]
        },
        {
          "output_type": "stream",
          "name": "stdout",
          "text": [
            "INFO:tensorflow:*** Num TPU Workers: 1\n"
          ]
        },
        {
          "output_type": "stream",
          "name": "stderr",
          "text": [
            "INFO:tensorflow:*** Num TPU Workers: 1\n"
          ]
        },
        {
          "output_type": "stream",
          "name": "stdout",
          "text": [
            "INFO:tensorflow:*** Num TPU Cores Per Worker: 8\n"
          ]
        },
        {
          "output_type": "stream",
          "name": "stderr",
          "text": [
            "INFO:tensorflow:*** Num TPU Cores Per Worker: 8\n"
          ]
        },
        {
          "output_type": "stream",
          "name": "stdout",
          "text": [
            "INFO:tensorflow:*** Available Device: _DeviceAttributes(/job:localhost/replica:0/task:0/device:CPU:0, CPU, 0, 0)\n"
          ]
        },
        {
          "output_type": "stream",
          "name": "stderr",
          "text": [
            "INFO:tensorflow:*** Available Device: _DeviceAttributes(/job:localhost/replica:0/task:0/device:CPU:0, CPU, 0, 0)\n"
          ]
        },
        {
          "output_type": "stream",
          "name": "stdout",
          "text": [
            "INFO:tensorflow:*** Available Device: _DeviceAttributes(/job:worker/replica:0/task:0/device:CPU:0, CPU, 0, 0)\n"
          ]
        },
        {
          "output_type": "stream",
          "name": "stderr",
          "text": [
            "INFO:tensorflow:*** Available Device: _DeviceAttributes(/job:worker/replica:0/task:0/device:CPU:0, CPU, 0, 0)\n"
          ]
        },
        {
          "output_type": "stream",
          "name": "stdout",
          "text": [
            "INFO:tensorflow:*** Available Device: _DeviceAttributes(/job:worker/replica:0/task:0/device:TPU:0, TPU, 0, 0)\n"
          ]
        },
        {
          "output_type": "stream",
          "name": "stderr",
          "text": [
            "INFO:tensorflow:*** Available Device: _DeviceAttributes(/job:worker/replica:0/task:0/device:TPU:0, TPU, 0, 0)\n"
          ]
        },
        {
          "output_type": "stream",
          "name": "stdout",
          "text": [
            "INFO:tensorflow:*** Available Device: _DeviceAttributes(/job:worker/replica:0/task:0/device:TPU:1, TPU, 0, 0)\n"
          ]
        },
        {
          "output_type": "stream",
          "name": "stderr",
          "text": [
            "INFO:tensorflow:*** Available Device: _DeviceAttributes(/job:worker/replica:0/task:0/device:TPU:1, TPU, 0, 0)\n"
          ]
        },
        {
          "output_type": "stream",
          "name": "stdout",
          "text": [
            "INFO:tensorflow:*** Available Device: _DeviceAttributes(/job:worker/replica:0/task:0/device:TPU:2, TPU, 0, 0)\n"
          ]
        },
        {
          "output_type": "stream",
          "name": "stderr",
          "text": [
            "INFO:tensorflow:*** Available Device: _DeviceAttributes(/job:worker/replica:0/task:0/device:TPU:2, TPU, 0, 0)\n"
          ]
        },
        {
          "output_type": "stream",
          "name": "stdout",
          "text": [
            "INFO:tensorflow:*** Available Device: _DeviceAttributes(/job:worker/replica:0/task:0/device:TPU:3, TPU, 0, 0)\n"
          ]
        },
        {
          "output_type": "stream",
          "name": "stderr",
          "text": [
            "INFO:tensorflow:*** Available Device: _DeviceAttributes(/job:worker/replica:0/task:0/device:TPU:3, TPU, 0, 0)\n"
          ]
        },
        {
          "output_type": "stream",
          "name": "stdout",
          "text": [
            "INFO:tensorflow:*** Available Device: _DeviceAttributes(/job:worker/replica:0/task:0/device:TPU:4, TPU, 0, 0)\n"
          ]
        },
        {
          "output_type": "stream",
          "name": "stderr",
          "text": [
            "INFO:tensorflow:*** Available Device: _DeviceAttributes(/job:worker/replica:0/task:0/device:TPU:4, TPU, 0, 0)\n"
          ]
        },
        {
          "output_type": "stream",
          "name": "stdout",
          "text": [
            "INFO:tensorflow:*** Available Device: _DeviceAttributes(/job:worker/replica:0/task:0/device:TPU:5, TPU, 0, 0)\n"
          ]
        },
        {
          "output_type": "stream",
          "name": "stderr",
          "text": [
            "INFO:tensorflow:*** Available Device: _DeviceAttributes(/job:worker/replica:0/task:0/device:TPU:5, TPU, 0, 0)\n"
          ]
        },
        {
          "output_type": "stream",
          "name": "stdout",
          "text": [
            "INFO:tensorflow:*** Available Device: _DeviceAttributes(/job:worker/replica:0/task:0/device:TPU:6, TPU, 0, 0)\n"
          ]
        },
        {
          "output_type": "stream",
          "name": "stderr",
          "text": [
            "INFO:tensorflow:*** Available Device: _DeviceAttributes(/job:worker/replica:0/task:0/device:TPU:6, TPU, 0, 0)\n"
          ]
        },
        {
          "output_type": "stream",
          "name": "stdout",
          "text": [
            "INFO:tensorflow:*** Available Device: _DeviceAttributes(/job:worker/replica:0/task:0/device:TPU:7, TPU, 0, 0)\n"
          ]
        },
        {
          "output_type": "stream",
          "name": "stderr",
          "text": [
            "INFO:tensorflow:*** Available Device: _DeviceAttributes(/job:worker/replica:0/task:0/device:TPU:7, TPU, 0, 0)\n"
          ]
        },
        {
          "output_type": "stream",
          "name": "stdout",
          "text": [
            "INFO:tensorflow:*** Available Device: _DeviceAttributes(/job:worker/replica:0/task:0/device:TPU_SYSTEM:0, TPU_SYSTEM, 0, 0)\n"
          ]
        },
        {
          "output_type": "stream",
          "name": "stderr",
          "text": [
            "INFO:tensorflow:*** Available Device: _DeviceAttributes(/job:worker/replica:0/task:0/device:TPU_SYSTEM:0, TPU_SYSTEM, 0, 0)\n"
          ]
        },
        {
          "output_type": "stream",
          "name": "stdout",
          "text": [
            "INFO:tensorflow:*** Available Device: _DeviceAttributes(/job:worker/replica:0/task:0/device:XLA_CPU:0, XLA_CPU, 0, 0)\n"
          ]
        },
        {
          "output_type": "stream",
          "name": "stderr",
          "text": [
            "INFO:tensorflow:*** Available Device: _DeviceAttributes(/job:worker/replica:0/task:0/device:XLA_CPU:0, XLA_CPU, 0, 0)\n"
          ]
        }
      ]
    },
    {
      "cell_type": "code",
      "source": [
        "cellStates=['empty','present','absent']"
      ],
      "metadata": {
        "id": "rozsI1hHZ9TF"
      },
      "execution_count": 15,
      "outputs": []
    },
    {
      "cell_type": "code",
      "source": [
        "subImgsEmpty=preprocessForVGG(readImgGray(\"grid2.png\"))\n",
        "empty=tf.constant(subImgsEmpty.shape[0]*[0],tf.uint8)"
      ],
      "metadata": {
        "id": "bIcJJHJVUC7w"
      },
      "execution_count": 16,
      "outputs": []
    },
    {
      "cell_type": "code",
      "source": [
        "subImgsPresent=preprocessForVGG(readImgGray(\"excel.png\"))\n",
        "present=tf.constant(subImgsPresent.shape[0]*[1],tf.uint8)"
      ],
      "metadata": {
        "id": "D8nygD3VRLxW"
      },
      "execution_count": 17,
      "outputs": []
    },
    {
      "cell_type": "code",
      "source": [
        "subImgsAbsent=preprocessForVGG(readImgGray(\"excelA.png\"))\n",
        "absent=tf.constant(subImgsAbsent.shape[0]*[2],tf.uint8)"
      ],
      "metadata": {
        "id": "xoTRaRIwU2nj"
      },
      "execution_count": 18,
      "outputs": []
    },
    {
      "cell_type": "code",
      "source": [
        "subImgs=tf.concat([subImgsEmpty,subImgsPresent,subImgsAbsent],0)\n",
        "states=tf.concat([empty,present,absent],0)"
      ],
      "metadata": {
        "id": "AXYkR8DTY5xQ"
      },
      "execution_count": 19,
      "outputs": []
    },
    {
      "cell_type": "code",
      "source": [
        "# model.summary()"
      ],
      "metadata": {
        "id": "InS_w_8T-sO0"
      },
      "execution_count": 20,
      "outputs": []
    },
    {
      "cell_type": "code",
      "source": [
        "def giveModel():\n",
        "  model=vgg.VGG16(weights='imagenet',include_top=False,input_shape=(224, 224, 3))\n",
        "  for layer in model.layers[:15]:\n",
        "    layer.trainable=False\n",
        "  x=model.output\n",
        "  x=Flatten()(x)\n",
        "  x=Dense(512,activation='relu')(x)\n",
        "  x=Dropout(0.5)(x)\n",
        "  x=Dense(256,activation='relu')(x)\n",
        "  x=Dense(3,activation='softmax')(x)\n",
        "  Attendance_model=Model(inputs=model.input,outputs=x)\n",
        "  return Attendance_model"
      ],
      "metadata": {
        "id": "v1gWXMskALTO"
      },
      "execution_count": 21,
      "outputs": []
    },
    {
      "cell_type": "code",
      "source": [
        "Attendance_model=giveModel()"
      ],
      "metadata": {
        "id": "MmbgzjyP1Cmi"
      },
      "execution_count": 30,
      "outputs": []
    },
    {
      "cell_type": "code",
      "source": [
        "lr_reduce = ReduceLROnPlateau(monitor='val_accuracy', factor=0.6, patience=8, verbose=1, mode='max', min_lr=5e-5)\n",
        "checkpoint = ModelCheckpoint('vgg16_finetune.h15', monitor= 'val_accuracy', mode= 'max', save_best_only = True, verbose= 1)\n",
        "early_stop=EarlyStopping(monitor='val_loss')"
      ],
      "metadata": {
        "id": "ukKwtrpfApHh"
      },
      "execution_count": 31,
      "outputs": []
    },
    {
      "cell_type": "code",
      "source": [
        "learning_rate= 5e-5\n",
        "Attendance_model.compile(loss=\"sparse_categorical_crossentropy\", optimizer=optimizers.Adam(learning_rate=learning_rate), metrics=[\"accuracy\"])"
      ],
      "metadata": {
        "id": "dKakxFqSA01b"
      },
      "execution_count": 32,
      "outputs": []
    },
    {
      "cell_type": "code",
      "source": [
        "def createDataSet(X,y,is_training=False):\n",
        "  ds=tf.data.Dataset.from_tensor_slices((X,y))\n",
        "  ds=ds.batch(32).prefetch(32)\n",
        "  if is_training:\n",
        "    ds=ds.shuffle(32)\n",
        "  return ds"
      ],
      "metadata": {
        "id": "_PTqeU5Oaccz"
      },
      "execution_count": 33,
      "outputs": []
    },
    {
      "cell_type": "code",
      "source": [
        "X=subImgs.numpy()\n",
        "y=states.numpy()"
      ],
      "metadata": {
        "id": "CsaicnN7fNDw"
      },
      "execution_count": 34,
      "outputs": []
    },
    {
      "cell_type": "code",
      "source": [
        "X_train,X_test,y_train,y_test=tts(X,y,test_size=0.25,random_state=42,shuffle=True)"
      ],
      "metadata": {
        "id": "iLqo64-8glAx"
      },
      "execution_count": 35,
      "outputs": []
    },
    {
      "cell_type": "code",
      "source": [
        "Attendance_model.summary()"
      ],
      "metadata": {
        "colab": {
          "base_uri": "https://localhost:8080/"
        },
        "id": "umEKS10Whudk",
        "outputId": "a05ccad3-295b-4e0b-cb80-600d212baee5"
      },
      "execution_count": 36,
      "outputs": [
        {
          "output_type": "stream",
          "name": "stdout",
          "text": [
            "Model: \"model_1\"\n",
            "_________________________________________________________________\n",
            " Layer (type)                Output Shape              Param #   \n",
            "=================================================================\n",
            " input_2 (InputLayer)        [(None, 224, 224, 3)]     0         \n",
            "                                                                 \n",
            " block1_conv1 (Conv2D)       (None, 224, 224, 64)      1792      \n",
            "                                                                 \n",
            " block1_conv2 (Conv2D)       (None, 224, 224, 64)      36928     \n",
            "                                                                 \n",
            " block1_pool (MaxPooling2D)  (None, 112, 112, 64)      0         \n",
            "                                                                 \n",
            " block2_conv1 (Conv2D)       (None, 112, 112, 128)     73856     \n",
            "                                                                 \n",
            " block2_conv2 (Conv2D)       (None, 112, 112, 128)     147584    \n",
            "                                                                 \n",
            " block2_pool (MaxPooling2D)  (None, 56, 56, 128)       0         \n",
            "                                                                 \n",
            " block3_conv1 (Conv2D)       (None, 56, 56, 256)       295168    \n",
            "                                                                 \n",
            " block3_conv2 (Conv2D)       (None, 56, 56, 256)       590080    \n",
            "                                                                 \n",
            " block3_conv3 (Conv2D)       (None, 56, 56, 256)       590080    \n",
            "                                                                 \n",
            " block3_pool (MaxPooling2D)  (None, 28, 28, 256)       0         \n",
            "                                                                 \n",
            " block4_conv1 (Conv2D)       (None, 28, 28, 512)       1180160   \n",
            "                                                                 \n",
            " block4_conv2 (Conv2D)       (None, 28, 28, 512)       2359808   \n",
            "                                                                 \n",
            " block4_conv3 (Conv2D)       (None, 28, 28, 512)       2359808   \n",
            "                                                                 \n",
            " block4_pool (MaxPooling2D)  (None, 14, 14, 512)       0         \n",
            "                                                                 \n",
            " block5_conv1 (Conv2D)       (None, 14, 14, 512)       2359808   \n",
            "                                                                 \n",
            " block5_conv2 (Conv2D)       (None, 14, 14, 512)       2359808   \n",
            "                                                                 \n",
            " block5_conv3 (Conv2D)       (None, 14, 14, 512)       2359808   \n",
            "                                                                 \n",
            " block5_pool (MaxPooling2D)  (None, 7, 7, 512)         0         \n",
            "                                                                 \n",
            " flatten_1 (Flatten)         (None, 25088)             0         \n",
            "                                                                 \n",
            " dense_3 (Dense)             (None, 512)               12845568  \n",
            "                                                                 \n",
            " dropout_1 (Dropout)         (None, 512)               0         \n",
            "                                                                 \n",
            " dense_4 (Dense)             (None, 256)               131328    \n",
            "                                                                 \n",
            " dense_5 (Dense)             (None, 3)                 771       \n",
            "                                                                 \n",
            "=================================================================\n",
            "Total params: 27,692,355\n",
            "Trainable params: 20,057,091\n",
            "Non-trainable params: 7,635,264\n",
            "_________________________________________________________________\n"
          ]
        }
      ]
    },
    {
      "cell_type": "code",
      "source": [
        "train_ds=createDataSet(X_train,y_train,True)\n",
        "val_ds=createDataSet(X_test,y_test)"
      ],
      "metadata": {
        "id": "xaXsJO7-jepE"
      },
      "execution_count": 37,
      "outputs": []
    },
    {
      "cell_type": "code",
      "source": [
        "history = Attendance_model.fit(train_ds, epochs=15,validation_data=val_ds,callbacks=[lr_reduce])"
      ],
      "metadata": {
        "colab": {
          "base_uri": "https://localhost:8080/"
        },
        "id": "rQPtSkh8BLlS",
        "outputId": "0df2cae5-bc5a-4e47-b489-3e92e357ad31"
      },
      "execution_count": 38,
      "outputs": [
        {
          "output_type": "stream",
          "name": "stdout",
          "text": [
            "Epoch 1/15\n",
            "5/5 [==============================] - 5s 635ms/step - loss: 4.3960 - accuracy: 0.4752 - val_loss: 1.4231 - val_accuracy: 0.5625 - lr: 5.0000e-05\n",
            "Epoch 2/15\n",
            "5/5 [==============================] - 3s 537ms/step - loss: 0.6663 - accuracy: 0.7872 - val_loss: 0.4350 - val_accuracy: 0.8750 - lr: 5.0000e-05\n",
            "Epoch 3/15\n",
            "5/5 [==============================] - 3s 598ms/step - loss: 0.5790 - accuracy: 0.8298 - val_loss: 0.5265 - val_accuracy: 0.8542 - lr: 5.0000e-05\n",
            "Epoch 4/15\n",
            "5/5 [==============================] - 3s 533ms/step - loss: 0.4147 - accuracy: 0.8723 - val_loss: 0.2571 - val_accuracy: 0.8958 - lr: 5.0000e-05\n",
            "Epoch 5/15\n",
            "5/5 [==============================] - 3s 535ms/step - loss: 0.1268 - accuracy: 0.9504 - val_loss: 0.2101 - val_accuracy: 0.9167 - lr: 5.0000e-05\n",
            "Epoch 6/15\n",
            "5/5 [==============================] - 3s 540ms/step - loss: 0.0579 - accuracy: 0.9645 - val_loss: 0.2487 - val_accuracy: 0.9167 - lr: 5.0000e-05\n",
            "Epoch 7/15\n",
            "5/5 [==============================] - 3s 604ms/step - loss: 0.0590 - accuracy: 0.9858 - val_loss: 0.2450 - val_accuracy: 0.9167 - lr: 5.0000e-05\n",
            "Epoch 8/15\n",
            "5/5 [==============================] - 3s 539ms/step - loss: 0.0258 - accuracy: 0.9929 - val_loss: 0.2210 - val_accuracy: 0.9167 - lr: 5.0000e-05\n",
            "Epoch 9/15\n",
            "5/5 [==============================] - 3s 539ms/step - loss: 0.0045 - accuracy: 1.0000 - val_loss: 0.2038 - val_accuracy: 0.9167 - lr: 5.0000e-05\n",
            "Epoch 10/15\n",
            "5/5 [==============================] - 3s 536ms/step - loss: 0.0087 - accuracy: 1.0000 - val_loss: 0.2037 - val_accuracy: 0.9167 - lr: 5.0000e-05\n",
            "Epoch 11/15\n",
            "5/5 [==============================] - 3s 538ms/step - loss: 0.0032 - accuracy: 1.0000 - val_loss: 0.2018 - val_accuracy: 0.9375 - lr: 5.0000e-05\n",
            "Epoch 12/15\n",
            "5/5 [==============================] - 3s 562ms/step - loss: 0.0021 - accuracy: 1.0000 - val_loss: 0.2049 - val_accuracy: 0.9375 - lr: 5.0000e-05\n",
            "Epoch 13/15\n",
            "5/5 [==============================] - 3s 599ms/step - loss: 0.0043 - accuracy: 1.0000 - val_loss: 0.2088 - val_accuracy: 0.9375 - lr: 5.0000e-05\n",
            "Epoch 14/15\n",
            "5/5 [==============================] - 3s 537ms/step - loss: 0.0053 - accuracy: 1.0000 - val_loss: 0.2275 - val_accuracy: 0.9167 - lr: 5.0000e-05\n",
            "Epoch 15/15\n",
            "5/5 [==============================] - 3s 539ms/step - loss: 0.0019 - accuracy: 1.0000 - val_loss: 0.2624 - val_accuracy: 0.9167 - lr: 5.0000e-05\n"
          ]
        }
      ]
    },
    {
      "cell_type": "code",
      "source": [
        "Attendance_model.evaluate(val_ds)"
      ],
      "metadata": {
        "id": "iS8B9JgWqUAb",
        "outputId": "1ac756ff-4c3a-4ea2-e9bb-541b8a7246b6",
        "colab": {
          "base_uri": "https://localhost:8080/"
        }
      },
      "execution_count": 39,
      "outputs": [
        {
          "output_type": "stream",
          "name": "stdout",
          "text": [
            "2/2 [==============================] - 1s 186ms/step - loss: 0.2624 - accuracy: 0.9167\n"
          ]
        },
        {
          "output_type": "execute_result",
          "data": {
            "text/plain": [
              "[0.26239463686943054, 0.9166666865348816]"
            ]
          },
          "metadata": {},
          "execution_count": 39
        }
      ]
    },
    {
      "cell_type": "code",
      "source": [
        "tf.argmax(Attendance_model.predict(subImgsEmpty),axis=1).numpy()"
      ],
      "metadata": {
        "id": "FM6dl5Amuz0J",
        "outputId": "e19888de-2d88-4c20-dc0c-5c4f78428056",
        "colab": {
          "base_uri": "https://localhost:8080/"
        }
      },
      "execution_count": 40,
      "outputs": [
        {
          "output_type": "execute_result",
          "data": {
            "text/plain": [
              "array([0, 0, 0, 0, 0, 0, 0, 0, 0, 0, 0, 0, 0, 0, 0, 0, 0, 0, 0, 0, 0, 0,\n",
              "       0, 0, 0, 0, 0, 0, 0, 0, 0, 0, 0, 0, 0, 0, 0, 0, 0, 0, 0, 0, 0, 0,\n",
              "       0, 0, 0, 0, 0, 0, 0, 0, 0, 0, 0, 0, 0, 0, 0, 0, 0, 0, 0])"
            ]
          },
          "metadata": {},
          "execution_count": 40
        }
      ]
    },
    {
      "cell_type": "code",
      "source": [
        "weights=Attendance_model.get_weights()"
      ],
      "metadata": {
        "id": "B8tx8J9Ru9fG"
      },
      "execution_count": 41,
      "outputs": []
    },
    {
      "cell_type": "code",
      "source": [
        "import pickle"
      ],
      "metadata": {
        "id": "NAj9Lmbw2DIR"
      },
      "execution_count": 43,
      "outputs": []
    },
    {
      "cell_type": "code",
      "source": [
        "pickle.dump(weights,open(\"savedWeights/AttWeights.pkl\",\"wb\"))"
      ],
      "metadata": {
        "id": "uyZjevN1ycF1"
      },
      "execution_count": 44,
      "outputs": []
    },
    {
      "cell_type": "code",
      "source": [
        ""
      ],
      "metadata": {
        "id": "lSNsARlQ0lnA"
      },
      "execution_count": 44,
      "outputs": []
    }
  ]
}